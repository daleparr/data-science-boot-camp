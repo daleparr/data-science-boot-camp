{
 "cells": [
  {
   "cell_type": "code",
   "execution_count": 1,
   "metadata": {},
   "outputs": [],
   "source": [
    "import pandas as pd\n",
    "from sklearn.model_selection import train_test_split\n",
    "from sklearn.preprocessing import StandardScaler\n",
    "from sklearn.linear_model import LinearRegression\n",
    "from sklearn.metrics import r2_score\n",
    "import numpy as np"
   ]
  },
  {
   "cell_type": "code",
   "execution_count": 5,
   "metadata": {},
   "outputs": [
    {
     "name": "stdout",
     "output_type": "stream",
     "text": [
      "   Pregnancies  Glucose  BloodPressure  SkinThickness  Insulin   BMI  \\\n",
      "0            6      148             72             35        0  33.6   \n",
      "1            1       85             66             29        0  26.6   \n",
      "2            8      183             64              0        0  23.3   \n",
      "3            1       89             66             23       94  28.1   \n",
      "4            0      137             40             35      168  43.1   \n",
      "\n",
      "   DiabetesPedigreeFunction  Age  Outcome  \n",
      "0                     0.627   50        1  \n",
      "1                     0.351   31        0  \n",
      "2                     0.672   32        1  \n",
      "3                     0.167   21        0  \n",
      "4                     2.288   33        1  \n",
      "Index(['Pregnancies', 'Glucose', 'BloodPressure', 'SkinThickness', 'Insulin',\n",
      "       'BMI', 'DiabetesPedigreeFunction', 'Age', 'Outcome'],\n",
      "      dtype='object')\n"
     ]
    }
   ],
   "source": [
    "df = pd.read_csv('diabetes_updated.csv')\n",
    "print(df.head())\n",
    "print(df.columns)"
   ]
  },
  {
   "cell_type": "code",
   "execution_count": 6,
   "metadata": {},
   "outputs": [],
   "source": [
    "#Differentiate between independent (X) and dependent (Y) variables\n",
    "X = df.drop('Outcome', axis=1)\n",
    "Y = df['Outcome']\n",
    "from sklearn.model_selection import train_test_split\n",
    "X_train, X_test, Y_train, Y_test = train_test_split(X, Y, test_size=0.2, random_state=42)\n"
   ]
  },
  {
   "cell_type": "code",
   "execution_count": 11,
   "metadata": {},
   "outputs": [],
   "source": [
    "#Analyze features and apply StandardScaler\n",
    "scaler = StandardScaler()\n",
    "X_train_scaled = scaler.fit_transform(X_train)\n",
    "X_test_scaled = scaler.transform(X_test)\n"
   ]
  },
  {
   "cell_type": "code",
   "execution_count": 10,
   "metadata": {},
   "outputs": [
    {
     "name": "stdout",
     "output_type": "stream",
     "text": [
      "Intercept: 0.34690553745928343\n",
      "Coefficients: [ 0.03465559  0.1803234  -0.04219339  0.00820563 -0.03230381  0.11631364\n",
      "  0.03744793  0.07425473]\n"
     ]
    }
   ],
   "source": [
    "#Create and train the linear regression model\n",
    "model = LinearRegression()\n",
    "model.fit(X_train_scaled, Y_train)\n",
    "print(f\"Intercept: {model.intercept_}\")\n",
    "print(f\"Coefficients: {model.coef_}\")"
   ]
  },
  {
   "cell_type": "code",
   "execution_count": 12,
   "metadata": {},
   "outputs": [
    {
     "name": "stdout",
     "output_type": "stream",
     "text": [
      "Predictions: [ 0.33550028  0.23809869  0.1510522   0.2401365   0.48142376  0.45257375\n",
      " -0.17450469  0.60662287  0.52417796  0.70476953  0.32360466  0.85290601\n",
      "  0.38466612  0.36056948  0.09946712  0.41539557  0.17869123  0.07782301\n",
      "  0.80730861  0.51299477  0.28090594  0.08303057  0.5099157   0.11381771\n",
      "  0.51325022  0.82528549  0.17892718 -0.0594202   0.28338572  0.16407949\n",
      "  0.83851225  0.80737515  0.68154389  0.7649502   0.56140297  0.62123131\n",
      "  1.06134554  0.30990775  0.51752336  0.63691482  0.07075333  0.57757007\n",
      "  0.55015462  0.37541745 -0.07644182  0.50119208  0.59600162  0.27464761\n",
      "  0.42477995  0.9941898   0.00969584  0.61763578  0.73395288  0.31090975\n",
      "  0.13456812 -0.02536316  0.71219147 -0.30518218  0.41994556  0.67869594\n",
      "  0.66891428  0.3798452   0.2956646   0.288035    0.06813053  0.55464338\n",
      "  0.01368504  0.6272007  -0.02033281  0.6372293   0.61928494  0.07019372\n",
      "  0.26388322  0.14080565  0.12425109  0.50054317  0.24772661  0.21027229\n",
      "  0.18419241  0.28346361  0.60206367  0.19720081  0.04718638  0.39163459\n",
      "  0.31373787  0.75789609  0.82549769  0.35944228  0.1723114   0.0957888\n",
      "  0.05894136  0.277268   -0.35746245  0.52802473  0.48569971  0.57670079\n",
      "  0.40681613  0.16649133  0.56927171  0.09451543  0.6570335   0.03311435\n",
      "  0.68073803  0.48441106  0.58967882  0.27055501  0.33149868  0.66512401\n",
      "  0.17581258  0.51566149  0.13045166  0.38010107 -0.0949753   0.65582849\n",
      "  0.23302651  0.3716743   0.68391471  0.28174341  0.05450268  0.53690397\n",
      "  0.04284507  0.33357357  0.30472023  0.10053203  0.33006507  0.44782371\n",
      "  0.02663058  0.82020965  1.03616317  0.66672645  0.6518381   0.77042295\n",
      "  0.11555357  0.44926623  0.72795331  0.15230489  0.21288603  0.76637265\n",
      "  0.72722441 -0.20395979  0.12946513 -0.02149655  0.27508285  0.39903148\n",
      "  0.15993455  0.33468331  0.20438069 -0.12662191  0.43170733  0.68158975\n",
      "  0.163167    0.4815615   0.30101739  0.26110909]\n"
     ]
    }
   ],
   "source": [
    "#Generate predictions and compare\n",
    "predictions = model.predict(X_test_scaled)\n",
    "print(f\"Predictions: {predictions}\")"
   ]
  },
  {
   "cell_type": "code",
   "execution_count": 13,
   "metadata": {},
   "outputs": [
    {
     "name": "stdout",
     "output_type": "stream",
     "text": [
      "R-squared: 0.2550028117674177\n"
     ]
    }
   ],
   "source": [
    "#Compute R-squared on the test set\n",
    "r_squared = r2_score(Y_test, predictions)\n",
    "print(f\"R-squared: {r_squared}\")"
   ]
  }
 ],
 "metadata": {
  "kernelspec": {
   "display_name": "Python 3",
   "language": "python",
   "name": "python3"
  },
  "language_info": {
   "codemirror_mode": {
    "name": "ipython",
    "version": 3
   },
   "file_extension": ".py",
   "mimetype": "text/x-python",
   "name": "python",
   "nbconvert_exporter": "python",
   "pygments_lexer": "ipython3",
   "version": "3.12.1"
  }
 },
 "nbformat": 4,
 "nbformat_minor": 2
}
