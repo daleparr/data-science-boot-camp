{
 "cells": [
  {
   "cell_type": "code",
   "execution_count": 76,
   "metadata": {},
   "outputs": [],
   "source": [
    "#data cleaning task "
   ]
  },
  {
   "cell_type": "markdown",
   "metadata": {},
   "source": [
    "Data Cleaning Task"
   ]
  },
  {
   "cell_type": "code",
   "execution_count": 77,
   "metadata": {},
   "outputs": [],
   "source": [
    "import pandas as pd\n",
    "\n",
    "# Read csv file\n",
    "data = pd.read_csv(\"store_income_data_task.csv\")"
   ]
  },
  {
   "cell_type": "code",
   "execution_count": 78,
   "metadata": {},
   "outputs": [
    {
     "name": "stdout",
     "output_type": "stream",
     "text": [
      "['other' 'united states']\n"
     ]
    }
   ],
   "source": [
    "# Print unique values in country column\n",
    "print(data[\"country\"].unique())"
   ]
  },
  {
   "cell_type": "code",
   "execution_count": 79,
   "metadata": {},
   "outputs": [],
   "source": [
    "# Convert all entries in 'country' to lower case and remove white spaces\n",
    "data[\"country\"] = data[\"country\"].str.lower().str.strip()"
   ]
  },
  {
   "cell_type": "code",
   "execution_count": 80,
   "metadata": {},
   "outputs": [],
   "source": [
    "# Create a dictionary to map original names to their standardized versions\n",
    "standardization_map = {\n",
    "    \"usa\": \"United States\", \n",
    "    \"canada\": \"Canada\", \n",
    "    \"uk\": \"United Kingdom\"}\n",
    "\n",
    "# Replace variations of country names based on the standardization map\n",
    "data[\"country\"] = data[\"country\"].replace(standardization_map)"
   ]
  },
  {
   "cell_type": "markdown",
   "metadata": {},
   "source": []
  },
  {
   "cell_type": "code",
   "execution_count": 81,
   "metadata": {},
   "outputs": [
    {
     "name": "stderr",
     "output_type": "stream",
     "text": [
      "C:\\Users\\mrdpa\\AppData\\Local\\Temp\\ipykernel_6892\\4174816397.py:5: FutureWarning: Series.fillna with 'method' is deprecated and will raise in a future version. Use obj.ffill() or obj.bfill() instead.\n",
      "  ).fillna(method=\"ffill\")\n"
     ]
    }
   ],
   "source": [
    "# Option 2: Coerce non-conformant dates\n",
    "data[\"date_measured\"] = pd.to_datetime(\n",
    "    data[\"date_measured\"], \n",
    "    errors=\"coerce\"\n",
    ").fillna(method=\"ffill\")"
   ]
  },
  {
   "cell_type": "code",
   "execution_count": 82,
   "metadata": {},
   "outputs": [],
   "source": [
    "# Calculate the difference between current date and 'date_measured' column\n",
    "data[\"days_since\"] = (pd.Timestamp.now() - data[\"date_measured\"]).dt.days"
   ]
  },
  {
   "cell_type": "code",
   "execution_count": 83,
   "metadata": {},
   "outputs": [],
   "source": [
    "# Save the modified dataframe to a new CSV file\n",
    "data.to_csv(\"modified_store_income_data_task.csv\", index=False)"
   ]
  }
 ],
 "metadata": {
  "kernelspec": {
   "display_name": "Python 3",
   "language": "python",
   "name": "python3"
  },
  "language_info": {
   "codemirror_mode": {
    "name": "ipython",
    "version": 3
   },
   "file_extension": ".py",
   "mimetype": "text/x-python",
   "name": "python",
   "nbconvert_exporter": "python",
   "pygments_lexer": "ipython3",
   "version": "3.12.1"
  }
 },
 "nbformat": 4,
 "nbformat_minor": 2
}
