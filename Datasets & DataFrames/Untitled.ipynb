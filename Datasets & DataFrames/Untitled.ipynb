{
 "cells": [
  {
   "cell_type": "markdown",
   "id": "cd7709da-75f0-4916-a4fe-8f66d6e8480e",
   "metadata": {},
   "source": [
    "import pandas as pd\n",
    "\n",
    "# Load your dataset\n",
    "df = pd.read_csv('Dataset Task.ipynb')  # Example for loading a dataset\n",
    "\n",
    "# Task 1a: Select the 'Limit' and 'Rating' columns of the first five observations\n",
    "task_1a = df[['Limit', 'Rating']].head(5)\n",
    "\n",
    "# Task 1b: Select the first five observations with 4 cards\n",
    "task_1b = df[df['Cards'] == 4].head(5)\n",
    "\n",
    "# Task 1c: Sort the observations by 'Education' in descending order\n",
    "task_1c = df.sort_values('Education', ascending=False)\n",
    "\n",
    "# Explanations for the lines of code:\n",
    "# a. df.iloc[:,:]: This line selects all rows and columns in the DataFrame.\n",
    "# b. df.iloc[5:,5:]: This selects rows from index 5 to the end and columns from index 5 to the end of the DataFrame.\n",
    "# c. df.iloc[:,0]: This selects all rows and only the first column of the DataFrame.\n",
    "# d. df.iloc[9,:]: This selects the tenth row (index starts at 0) and all columns in that row.\n",
    "\n"
   ]
  },
  {
   "cell_type": "code",
   "execution_count": null,
   "id": "3970ea6a-a6ba-4f1a-b753-2762de2e8f4e",
   "metadata": {},
   "outputs": [],
   "source": []
  }
 ],
 "metadata": {
  "kernelspec": {
   "display_name": "Python 3 (ipykernel)",
   "language": "python",
   "name": "python3"
  },
  "language_info": {
   "codemirror_mode": {
    "name": "ipython",
    "version": 3
   },
   "file_extension": ".py",
   "mimetype": "text/x-python",
   "name": "python",
   "nbconvert_exporter": "python",
   "pygments_lexer": "ipython3",
   "version": "3.12.1"
  }
 },
 "nbformat": 4,
 "nbformat_minor": 5
}
